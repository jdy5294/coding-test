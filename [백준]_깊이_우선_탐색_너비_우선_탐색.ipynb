{
  "nbformat": 4,
  "nbformat_minor": 0,
  "metadata": {
    "colab": {
      "provenance": [],
      "authorship_tag": "ABX9TyNl9WX0geqg+tJMqpg8IUfM",
      "include_colab_link": true
    },
    "kernelspec": {
      "name": "python3",
      "display_name": "Python 3"
    },
    "language_info": {
      "name": "python"
    }
  },
  "cells": [
    {
      "cell_type": "markdown",
      "metadata": {
        "id": "view-in-github",
        "colab_type": "text"
      },
      "source": [
        "<a href=\"https://colab.research.google.com/github/jdy5294/coding-test/blob/main/%5B%EB%B0%B1%EC%A4%80%5D_%EA%B9%8A%EC%9D%B4_%EC%9A%B0%EC%84%A0_%ED%83%90%EC%83%89_%EB%84%88%EB%B9%84_%EC%9A%B0%EC%84%A0_%ED%83%90%EC%83%89.ipynb\" target=\"_parent\"><img src=\"https://colab.research.google.com/assets/colab-badge.svg\" alt=\"Open In Colab\"/></a>"
      ]
    },
    {
      "cell_type": "markdown",
      "source": [
        "## DFS와 BFS\n",
        "\n",
        "https://www.acmicpc.net/problem/1260"
      ],
      "metadata": {
        "id": "4v_rbyExtzv9"
      }
    },
    {
      "cell_type": "code",
      "source": [
        "from collections import deque\n",
        "\n",
        "n, m, v = map(int, input().split())\n",
        "graph = [[] for _ in range(n+1)]\n",
        "\n",
        "# 그래프 정렬\n",
        "for _ in range(m):\n",
        "  a, b = map(int, input().split())\n",
        "  graph[a].append(b)\n",
        "  graph[b].append(a)\n",
        "\n",
        "for g in graph:\n",
        "  g.sort()\n",
        "\n",
        "# DFS, BFS 함수 정의\n",
        "def dfs(graph, v, visited):\n",
        "  visited[v] = True\n",
        "  print(v, end=' ')\n",
        "  for i in graph[v]:\n",
        "    if not visited[i]:\n",
        "      dfs(graph, i, visited)\n",
        "\n",
        "def bfs(graph, start, visited):\n",
        "  queue = deque([start])\n",
        "  visited[start] = True\n",
        "  while queue:\n",
        "    v = queue.popleft()\n",
        "    print(v, end=' ')\n",
        "    for i in graph[v]:\n",
        "      if not visited[i]:\n",
        "        queue.append(i)\n",
        "        visited[i] = True\n",
        "\n",
        "visited = [False] * (n+1)\n",
        "dfs(graph, v, visited)\n",
        "\n",
        "print('')\n",
        "\n",
        "visited = [False] * (n+1)\n",
        "bfs(graph, v, visited)"
      ],
      "metadata": {
        "colab": {
          "base_uri": "https://localhost:8080/"
        },
        "id": "giSsMQOZty9y",
        "outputId": "465c20d5-6f22-48a8-c3b7-3371628493ea"
      },
      "execution_count": null,
      "outputs": [
        {
          "output_type": "stream",
          "name": "stdout",
          "text": [
            "4 5 1\n",
            "1 2\n",
            "1 3\n",
            "1 4\n",
            "2 4\n",
            "3 4\n",
            "1 2 4 3 \n",
            "1 2 3 4 "
          ]
        }
      ]
    },
    {
      "cell_type": "markdown",
      "source": [
        "## 바이러스\n",
        "\n",
        "https://www.acmicpc.net/problem/2606"
      ],
      "metadata": {
        "id": "jVlYzl3Bzuzl"
      }
    },
    {
      "cell_type": "code",
      "source": [
        "from collections import deque\n",
        "\n",
        "n = int(input())\n",
        "m = int(input())\n",
        "\n",
        "graph = [[] for _ in range(n+1)]\n",
        "\n",
        "for _ in range(m):\n",
        "  a, b = map(int, input().split())\n",
        "  graph[a].append(b)\n",
        "  graph[b].append(a)\n",
        "\n",
        "visited = [False] * (n+1)\n",
        "\n",
        "def bfs(graph, start, visited):\n",
        "  queue = deque([start])\n",
        "  visited[start] = True\n",
        "  while queue:\n",
        "    v = queue.popleft()\n",
        "    for i in graph[v]:\n",
        "      if not visited[i]:\n",
        "        visited[i] = True\n",
        "        queue.append(i)\n",
        "  return sum(visited) - 1\n",
        "\n",
        "print(bfs(graph, 1, visited))"
      ],
      "metadata": {
        "id": "R3rN9DMKw8Ha",
        "colab": {
          "base_uri": "https://localhost:8080/"
        },
        "outputId": "4a31fa3a-2f02-492a-ad7f-1d8d789b49a1"
      },
      "execution_count": 7,
      "outputs": [
        {
          "output_type": "stream",
          "name": "stdout",
          "text": [
            "7\n",
            "6\n",
            "1 2\n",
            "2 3\n",
            "1 5\n",
            "5 2\n",
            "5 6\n",
            "4 7\n",
            "4\n"
          ]
        }
      ]
    },
    {
      "cell_type": "markdown",
      "source": [
        "## 단지번호 붙이기\n",
        "\n",
        "https://www.acmicpc.net/problem/2667"
      ],
      "metadata": {
        "id": "_id_qDK37Gpy"
      }
    },
    {
      "cell_type": "code",
      "source": [
        "n = int(input())\n",
        "\n",
        "graph = []\n",
        "for _ in range(n):\n",
        "  graph.append(list(map(int, input())))\n",
        "\n",
        "def dfs(x, y):\n",
        "  if x < 0 or x >= n or y < 0 or y >= n:\n",
        "    return False\n",
        "  if graph[x][y] == 1:\n",
        "    global count\n",
        "    count += 1\n",
        "    graph[x][y] = 0\n",
        "    dfs(x-1, y)\n",
        "    dfs(x+1 ,y)\n",
        "    dfs(x, y-1)\n",
        "    dfs(x, y+1)\n",
        "    return count\n",
        "  return False\n",
        "\n",
        "result = []\n",
        "\n",
        "for i in range(n):\n",
        "  for j in range(n):\n",
        "    count = 0\n",
        "    num = dfs(i, j)\n",
        "    if num != False:\n",
        "      result.append(num)\n",
        "\n",
        "result.sort()\n",
        "\n",
        "print(len(result))\n",
        "\n",
        "for i in range(len(result)):\n",
        "  print(result[i])"
      ],
      "metadata": {
        "colab": {
          "base_uri": "https://localhost:8080/"
        },
        "id": "qTFkaRag7GOp",
        "outputId": "9870ed02-1adb-4faa-c901-5197f2606d83"
      },
      "execution_count": 26,
      "outputs": [
        {
          "output_type": "stream",
          "name": "stdout",
          "text": [
            "7\n",
            "0110100\n",
            "0110101\n",
            "1110101\n",
            "0000111\n",
            "0100000\n",
            "0111110\n",
            "0111000\n",
            "3\n",
            "7\n",
            "8\n",
            "9\n"
          ]
        }
      ]
    },
    {
      "cell_type": "markdown",
      "source": [
        "## 유기농 배추\n",
        "\n",
        "https://www.acmicpc.net/problem/1012"
      ],
      "metadata": {
        "id": "H2v626_IA0e1"
      }
    },
    {
      "cell_type": "code",
      "source": [
        "from collections import deque\n",
        "\n",
        "# 동 서 남 북\n",
        "dx = [1,-1,0,0]\n",
        "dy = [0,0,1,-1]\n",
        "\n",
        "def bfs(x,y):\n",
        "  queue = deque()\n",
        "  queue.append((x, y))\n",
        "  graph[y][x] = 0\n",
        "\n",
        "  while queue:\n",
        "    x, y = queue.popleft()\n",
        "    for i in range(4):\n",
        "      nx = x + dx[i]\n",
        "      ny = y + dy[i]\n",
        "      if (0 <= nx < m) and (0 <= ny < n):\n",
        "        if graph[ny][nx] == 1:\n",
        "          queue.append((nx,ny))\n",
        "          graph[ny][nx] = 0\n",
        "\n",
        "t = int(input())\n",
        "\n",
        "for _ in range(t):\n",
        "  m, n, k = map(int, input().split())\n",
        "  graph = [[0]*m for _ in range(n)]\n",
        "\n",
        "  for _ in range(k):\n",
        "    x, y = map(int, input().split())\n",
        "    graph[y][x] = 1\n",
        "\n",
        "\n",
        "  result = 0\n",
        "\n",
        "  for i in range(m):\n",
        "    for j in range(n):\n",
        "      if graph[j][i] == 1:\n",
        "        result += 1\n",
        "        bfs(i, j)\n",
        "  print(result)"
      ],
      "metadata": {
        "colab": {
          "base_uri": "https://localhost:8080/"
        },
        "id": "t23SG97ZL2AY",
        "outputId": "b81e4e2f-59e4-46fa-b0f5-cf9e97eaf547"
      },
      "execution_count": 44,
      "outputs": [
        {
          "output_type": "stream",
          "name": "stdout",
          "text": [
            "1\n",
            "5 3 6\n",
            "0 2\n",
            "1 2\n",
            "2 2\n",
            "3 2\n",
            "4 2\n",
            "4 0\n",
            "2\n"
          ]
        }
      ]
    },
    {
      "cell_type": "code",
      "source": [
        "# 런타임에러\n",
        "def dfs(x, y):\n",
        "  if x < 0 or x >= m or y < 0 or y >= n:\n",
        "    return False\n",
        "  if graph[y][x] == 1:\n",
        "    graph[y][x] = 0\n",
        "    dfs(x-1, y)\n",
        "    dfs(x+1, y)\n",
        "    dfs(x, y-1)\n",
        "    dfs(x, y+1)\n",
        "    return True\n",
        "  return False\n",
        "\n",
        "t = int(input())\n",
        "\n",
        "for _ in range(t):\n",
        "  m, n, k = map(int, input().split())\n",
        "  graph = [[0]*m for _ in range(n)]\n",
        "\n",
        "  for _ in range(k):\n",
        "    x, y = map(int, input().split())\n",
        "    graph[y][x] = 1\n",
        "\n",
        "  result = 0\n",
        "  for i in range(m):\n",
        "    for j in range(n):\n",
        "      if dfs(i, j) == True:\n",
        "        result += 1\n",
        "  print(result)"
      ],
      "metadata": {
        "colab": {
          "base_uri": "https://localhost:8080/"
        },
        "id": "vnE1EbOIAjt2",
        "outputId": "d4e00821-0dde-4ba6-93c5-281fd6ee0351"
      },
      "execution_count": 28,
      "outputs": [
        {
          "output_type": "stream",
          "name": "stdout",
          "text": [
            "2\n",
            "10 8 17\n",
            "0 0\n",
            "1 0\n",
            "1 1\n",
            "4 2\n",
            "4 3\n",
            "4 5\n",
            "2 4\n",
            "3 4\n",
            "7 4\n",
            "8 4\n",
            "9 4\n",
            "7 5\n",
            "8 5\n",
            "9 5\n",
            "7 6\n",
            "8 6\n",
            "9 6\n",
            "5\n",
            "10 10 1\n",
            "5 5\n",
            "1\n"
          ]
        }
      ]
    },
    {
      "cell_type": "markdown",
      "source": [
        "## 미로찾기\n",
        "\n",
        "https://www.acmicpc.net/problem/2178"
      ],
      "metadata": {
        "id": "T6Y3YnV7QPoi"
      }
    },
    {
      "cell_type": "code",
      "source": [
        "from collections import deque\n",
        "n, m = map(int, input().split())\n",
        "graph = []\n",
        "\n",
        "for _ in range(n):\n",
        "  graph.append(list(map(int, input())))\n",
        "\n",
        "# 동,서,남,북\n",
        "dx = [0,0,-1,1]\n",
        "dy = [-1,1,0,0]\n",
        "\n",
        "def bfs(x, y):\n",
        "  queue = deque()\n",
        "  queue.append((x, y))\n",
        "  while queue:\n",
        "    x, y = queue.popleft()\n",
        "    for i in range(4):\n",
        "      nx = x + dx[i]\n",
        "      ny = y + dy[i]\n",
        "      if (0 <= nx < n) and (0 <= ny < m):\n",
        "        if graph[nx][ny] == 1:\n",
        "          graph[nx][ny] = graph[x][y] + 1\n",
        "          queue.append((nx, ny))\n",
        "\n",
        "  return graph[n-1][m-1]\n",
        "\n",
        "print(bfs(0,0))"
      ],
      "metadata": {
        "colab": {
          "base_uri": "https://localhost:8080/"
        },
        "id": "6gVCFyUWAjpS",
        "outputId": "39281bf6-a1c4-4ef4-817c-33010a3693ef"
      },
      "execution_count": 52,
      "outputs": [
        {
          "output_type": "stream",
          "name": "stdout",
          "text": [
            "4 6\n",
            "101111\n",
            "101010\n",
            "101011\n",
            "111011\n",
            "15\n"
          ]
        }
      ]
    },
    {
      "cell_type": "markdown",
      "source": [
        "## 토마토 (시간초과)\n",
        "\n",
        "https://www.acmicpc.net/problem/7576"
      ],
      "metadata": {
        "id": "cahpJlrOXKhf"
      }
    },
    {
      "cell_type": "code",
      "source": [
        "from collections import deque\n",
        "\n",
        "m, n = map(int, input().split())\n",
        "graph = []\n",
        "for _ in range(n):\n",
        "  graph.append(list(map(int, input().split())))\n",
        "\n",
        "# 동,서,남,북\n",
        "dx = [0,0,1,-1]\n",
        "dy = [-1,1,0,0]\n",
        "\n",
        "def bfs(x, y):\n",
        "  queue = deque()\n",
        "  queue.append((x, y))\n",
        "  while queue:\n",
        "    x, y = queue.popleft()\n",
        "    for i in range(4):\n",
        "      nx = x + dx[i]\n",
        "      ny = y + dy[i]\n",
        "      if (0 <= nx < n) and (0 <= ny < m):\n",
        "        if (graph[nx][ny] == 0):\n",
        "          graph[nx][ny] = graph[x][y] + 1\n",
        "          queue.append((nx, ny))\n",
        "        elif (graph[nx][ny] != -1) and (graph[nx][ny] > graph[x][y] + 1):\n",
        "          graph[nx][ny] = graph[x][y] + 1\n",
        "          queue.append((nx, ny))\n",
        "\n",
        "for i in range(n):\n",
        "  for j in range(m):\n",
        "    if graph[i][j] == 1:\n",
        "      bfs(i,j)\n",
        "\n",
        "result = []\n",
        "for l in graph:\n",
        "  result += l\n",
        "\n",
        "if 0 in result:\n",
        "  print(-1)\n",
        "else:\n",
        "  print(max(result)-1)"
      ],
      "metadata": {
        "colab": {
          "base_uri": "https://localhost:8080/"
        },
        "id": "qOxO7RQhAjkm",
        "outputId": "58bdf6d8-620b-43ce-8cca-65c7d4b509cc"
      },
      "execution_count": 66,
      "outputs": [
        {
          "output_type": "stream",
          "name": "stdout",
          "text": [
            "2 2\n",
            "1 -1\n",
            "-1 1\n",
            "0\n"
          ]
        }
      ]
    },
    {
      "cell_type": "code",
      "source": [],
      "metadata": {
        "id": "eik1XFRO7GE3"
      },
      "execution_count": null,
      "outputs": []
    },
    {
      "cell_type": "code",
      "source": [],
      "metadata": {
        "id": "gHRLyCeg7GCx"
      },
      "execution_count": null,
      "outputs": []
    },
    {
      "cell_type": "code",
      "source": [],
      "metadata": {
        "id": "9dFGq1sKw8CX"
      },
      "execution_count": null,
      "outputs": []
    },
    {
      "cell_type": "code",
      "source": [],
      "metadata": {
        "id": "ERn4rMuItysH"
      },
      "execution_count": null,
      "outputs": []
    },
    {
      "cell_type": "code",
      "source": [],
      "metadata": {
        "id": "o3YeWYTgqLmE"
      },
      "execution_count": null,
      "outputs": []
    },
    {
      "cell_type": "code",
      "source": [],
      "metadata": {
        "id": "tiKmVHJcqLou"
      },
      "execution_count": null,
      "outputs": []
    },
    {
      "cell_type": "code",
      "source": [],
      "metadata": {
        "id": "KWGn_jSmqLrR"
      },
      "execution_count": null,
      "outputs": []
    },
    {
      "cell_type": "code",
      "source": [],
      "metadata": {
        "id": "hzTl1osFqLud"
      },
      "execution_count": null,
      "outputs": []
    }
  ]
}