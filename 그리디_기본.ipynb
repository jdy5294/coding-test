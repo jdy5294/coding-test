{
  "nbformat": 4,
  "nbformat_minor": 0,
  "metadata": {
    "colab": {
      "provenance": [],
      "toc_visible": true,
      "authorship_tag": "ABX9TyNCeYc9gR+HMzeXbt56sQwU",
      "include_colab_link": true
    },
    "kernelspec": {
      "name": "python3",
      "display_name": "Python 3"
    },
    "language_info": {
      "name": "python"
    }
  },
  "cells": [
    {
      "cell_type": "markdown",
      "metadata": {
        "id": "view-in-github",
        "colab_type": "text"
      },
      "source": [
        "<a href=\"https://colab.research.google.com/github/jdy5294/coding-test/blob/main/%EA%B7%B8%EB%A6%AC%EB%94%94_%EA%B8%B0%EB%B3%B8.ipynb\" target=\"_parent\"><img src=\"https://colab.research.google.com/assets/colab-badge.svg\" alt=\"Open In Colab\"/></a>"
      ]
    },
    {
      "cell_type": "markdown",
      "source": [
        "### 거스름돈\n",
        "\n",
        "1. 문제: 카운터에 거스름돈으로 사용할 500원, 100원, 50원, 10원짜리 동전이 무한히 존재한다고 가정한다.\n",
        "손님에게 거슬러 줘야 할 돈이 N = 1260원일 때 거슬러줘야 할 동전의 최소 개수를 구하라."
      ],
      "metadata": {
        "id": "jXIYNLlOH2gA"
      }
    },
    {
      "cell_type": "code",
      "source": [
        "n = 1260\n",
        "count = 0\n",
        "\n",
        "coins = [500,100,50,10]\n",
        "\n",
        "for coin in coins:\n",
        "  count += n//coin\n",
        "  n = n%coin\n",
        "\n",
        "count"
      ],
      "metadata": {
        "colab": {
          "base_uri": "https://localhost:8080/"
        },
        "id": "xbspexb7G3Kr",
        "outputId": "e68e06f3-2010-42dc-8d87-7d3f885e87c6"
      },
      "execution_count": 1,
      "outputs": [
        {
          "output_type": "execute_result",
          "data": {
            "text/plain": [
              "6"
            ]
          },
          "metadata": {},
          "execution_count": 1
        }
      ]
    },
    {
      "cell_type": "markdown",
      "source": [
        "### 큰 수의 법칙\n",
        "\n",
        "1. 문제:\n",
        "        - 큰 수의 법칙: 배열의 특정 인덱스에 해당하는 수가 연속해서 K번을 초과하여 더해질 수 없도록 하면서, 주어진 수들을 M번 더하여 가장 큰 수를 만드는 법칙\n",
        "\n",
        "2. 입력:\n",
        "        - 첫째 줄에 N, M, K의 자연수가 주어지며, 각 자연수는 공백으로 구분한다.\n",
        "\n",
        "        - 둘째 줄에 N개의 자연수가 주어진다. 각 자연수는 공백으로 구분한다.\n",
        "\n",
        "        - 입력으로 주어지는 K는 항상 M보다 작거나 같다.\n",
        "\n",
        "3. 출력\n",
        "        - 첫째 줄에 큰 수의 법칙에 따라 더해진 답을 출력한다."
      ],
      "metadata": {
        "id": "2AxCUa23JNRb"
      }
    },
    {
      "cell_type": "code",
      "source": [
        "# 내 답안\n",
        "import time\n",
        "\n",
        "n, m, k = map(int, input().split())\n",
        "data = list(map(int, input().split()))\n",
        "\n",
        "start = time.time()\n",
        "data.sort(reverse=True)\n",
        "n_first = data[0]\n",
        "n_second = data[1]\n",
        "\n",
        "result = (n_first*k+n_second)*(m//(k+1)) + n_first*(m%(k+1))\n",
        "end = time.time()\n",
        "\n",
        "print(result)\n",
        "print('time: ', end-start)"
      ],
      "metadata": {
        "colab": {
          "base_uri": "https://localhost:8080/"
        },
        "id": "mlWAhdzKG3M7",
        "outputId": "ac5cd98f-6670-4b84-f59f-db7aa511e09f"
      },
      "execution_count": 5,
      "outputs": [
        {
          "output_type": "stream",
          "name": "stdout",
          "text": [
            "5 8 3\n",
            "2 4 5 4 6\n",
            "46\n",
            "time:  0.0003352165222167969\n"
          ]
        }
      ]
    },
    {
      "cell_type": "code",
      "source": [
        "# 답안 예시\n",
        "n, m, k = 5,8,3\n",
        "data = [2,4,5,4,6]\n",
        "\n",
        "start = time.time()\n",
        "data.sort()\n",
        "n_first = data[n-1]\n",
        "n_second = data[n-2]\n",
        "\n",
        "count = int(m / (k+1)) * k\n",
        "count += m % (k+1)\n",
        "\n",
        "result = 0\n",
        "result += (count) * n_first\n",
        "result += (m - count) * n_second\n",
        "end = time.time()\n",
        "\n",
        "print(result)\n",
        "print('time: ', end-start)"
      ],
      "metadata": {
        "colab": {
          "base_uri": "https://localhost:8080/"
        },
        "id": "YVomrPcQG3Pe",
        "outputId": "bf27c379-d58b-4f3c-aa68-582b7ab45382"
      },
      "execution_count": 10,
      "outputs": [
        {
          "output_type": "stream",
          "name": "stdout",
          "text": [
            "46\n",
            "time:  0.0003402233123779297\n"
          ]
        }
      ]
    },
    {
      "cell_type": "markdown",
      "source": [
        "### 숫자 카드 게임\n",
        "\n",
        "1. 문제:\n",
        "        - 게임의 룰: N X M 형태로 놓인 숫자 카드에서 하나의 행을 선택한다. 그 다음 선택된 행에 포함된 카드들 중 가장 숫자가 갖은 카드를 뽑아야 한다. 최종적으로 가장 높은 숫자의 카드를 뽑을 수 있도록 전략을 세워야 한다.\n",
        "\n",
        "2. 입력:\n",
        "        - 첫째 줄에 행의 개수 N, 열의 개수 M이 공백을 기준으로 하여 각각 자연수로 주어진다.\n",
        "\n",
        "        - 둘째 줄부터 N개의 줄에 걸쳐 각 카드에 적힌 숫자가 주어진다.\n",
        "\n",
        "3. 출력\n",
        "        - 첫째 줄에 게임의 룰에 맞게 선택한 카드에 적힌 숫자를 출력한다."
      ],
      "metadata": {
        "id": "YLFPs_iLWw_M"
      }
    },
    {
      "cell_type": "code",
      "source": [
        "# 내 답안\n",
        "n, m = map(int, input().split())\n",
        "card_list = []\n",
        "for _ in range(n):\n",
        "  card_list.append(list(map(int, input().split())))\n",
        "\n",
        "card_min = []\n",
        "for card in card_list:\n",
        "  card.sort()\n",
        "  card_min.append(card[0])\n",
        "\n",
        "card_min.sort(reverse=True)\n",
        "print(card_min[0])"
      ],
      "metadata": {
        "colab": {
          "base_uri": "https://localhost:8080/"
        },
        "id": "lU-lrs3_Ww5d",
        "outputId": "c2c152d5-04bf-4a68-e48e-c4fe7d322d0c"
      },
      "execution_count": 12,
      "outputs": [
        {
          "output_type": "stream",
          "name": "stdout",
          "text": [
            "3 3\n",
            "3 1 2\n",
            "4 1 4\n",
            "2 2 2\n",
            "2\n"
          ]
        }
      ]
    },
    {
      "cell_type": "code",
      "source": [
        "# 답안 예시\n",
        "n, m = map(int, input().split())\n",
        "\n",
        "result = 0\n",
        "\n",
        "for _ in range(n):\n",
        "  data = list(map(int, input().split()))\n",
        "  min_value = min(data)\n",
        "  result = max(result, min_value)\n",
        "\n",
        "print(result)"
      ],
      "metadata": {
        "id": "SKWA6NrvWwzA"
      },
      "execution_count": null,
      "outputs": []
    },
    {
      "cell_type": "markdown",
      "source": [
        "### 1이 될 때까지\n",
        "\n",
        "1. 문제:\n",
        "        - 어떠한 수 N이 1이 될 때까지 다음 두 과정 중 하나를 반복적으로 선택하여 수행하려고 한다. 단 두번째 연산은 N이 K로 나누어떨어질 때만 선택할 수 있다.\n",
        "\n",
        "        1. N에서 1을 뺀다.\n",
        "        2. N을 K로 나눈다.\n",
        "\n",
        "2. 입력:\n",
        "        - 첫째 줄에 N과 K가 공백으로 구분되며 N은 항상 K보다 크거나 같다.\n",
        "\n",
        "3. 출력\n",
        "        - 첫째 줄에 N이 1이 될 때까지 1번 혹은 2번의 과정을 수행해야 하는 횟수의 최솟값을 출력한다."
      ],
      "metadata": {
        "id": "7Oa1vULUQl77"
      }
    },
    {
      "cell_type": "code",
      "source": [
        "# 내 답안\n",
        "n, k = 17, 4\n",
        "\n",
        "count = 0\n",
        "while True:\n",
        "  if n == 1:\n",
        "    break\n",
        "  elif n%k == 0:\n",
        "    count += 1\n",
        "    n = n//k\n",
        "  else:\n",
        "    count += 1\n",
        "    n -= 1\n",
        "\n",
        "print(count)"
      ],
      "metadata": {
        "colab": {
          "base_uri": "https://localhost:8080/"
        },
        "id": "STD8vjD6Wwvx",
        "outputId": "0b1c3dbe-66b8-4f0b-9adb-7ade7d1b1b4a"
      },
      "execution_count": 19,
      "outputs": [
        {
          "output_type": "stream",
          "name": "stdout",
          "text": [
            "3\n"
          ]
        }
      ]
    },
    {
      "cell_type": "code",
      "source": [
        "# 답안 예시\n",
        "n, k = map(int, input().split())\n",
        "result = 0\n",
        "\n",
        "while True:\n",
        "  # (N==K로 나누어떨어지는 수)가 될 때까지 1씩 빼기\n",
        "  target = (n//k) * k\n",
        "  result += (n - target)\n",
        "  n = target\n",
        "  # N이 K보다 작을 때 반복문 탈출\n",
        "  if n < k:\n",
        "    break\n",
        "  # K로 나누기\n",
        "  result += 1\n",
        "  n //= k\n",
        "\n",
        "# 마지막으로 남은 수에 대하여 1씩 빼기\n",
        "result += (n-1)\n",
        "print(result)"
      ],
      "metadata": {
        "colab": {
          "base_uri": "https://localhost:8080/"
        },
        "id": "iBdlqrCZWwtI",
        "outputId": "5943fa36-4720-4bbf-9b02-5065cac78511"
      },
      "execution_count": 20,
      "outputs": [
        {
          "output_type": "stream",
          "name": "stdout",
          "text": [
            "25 5\n",
            "2\n"
          ]
        }
      ]
    }
  ]
}