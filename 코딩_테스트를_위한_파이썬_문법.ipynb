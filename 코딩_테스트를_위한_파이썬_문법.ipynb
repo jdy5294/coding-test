{
  "nbformat": 4,
  "nbformat_minor": 0,
  "metadata": {
    "colab": {
      "provenance": [],
      "toc_visible": true,
      "authorship_tag": "ABX9TyP98VS2JWCCebXbrr2eZ5wb",
      "include_colab_link": true
    },
    "kernelspec": {
      "name": "python3",
      "display_name": "Python 3"
    },
    "language_info": {
      "name": "python"
    }
  },
  "cells": [
    {
      "cell_type": "markdown",
      "metadata": {
        "id": "view-in-github",
        "colab_type": "text"
      },
      "source": [
        "<a href=\"https://colab.research.google.com/github/jdy5294/coding-test/blob/main/%EC%BD%94%EB%94%A9_%ED%85%8C%EC%8A%A4%ED%8A%B8%EB%A5%BC_%EC%9C%84%ED%95%9C_%ED%8C%8C%EC%9D%B4%EC%8D%AC_%EB%AC%B8%EB%B2%95.ipynb\" target=\"_parent\"><img src=\"https://colab.research.google.com/assets/colab-badge.svg\" alt=\"Open In Colab\"/></a>"
      ]
    },
    {
      "cell_type": "markdown",
      "source": [
        "## 시간과 메모리 측정"
      ],
      "metadata": {
        "id": "wdlwgh23r0OQ"
      }
    },
    {
      "cell_type": "code",
      "execution_count": 1,
      "metadata": {
        "id": "QOFc2M_nqqUo",
        "colab": {
          "base_uri": "https://localhost:8080/"
        },
        "outputId": "79101e3e-a2dd-445c-d4d7-95d408573435"
      },
      "outputs": [
        {
          "output_type": "stream",
          "name": "stdout",
          "text": [
            "time:  2.7418136596679688e-05\n"
          ]
        }
      ],
      "source": [
        "import time\n",
        "\n",
        "start_time = time.time()\n",
        "end_time = time.time()\n",
        "print('time: ', end_time - start_time)"
      ]
    },
    {
      "cell_type": "markdown",
      "source": [
        "## 자료형"
      ],
      "metadata": {
        "id": "lsqAiTggscG6"
      }
    },
    {
      "cell_type": "markdown",
      "source": [
        "### 리스트 자료형"
      ],
      "metadata": {
        "id": "PsPzJgm9sjwF"
      }
    },
    {
      "cell_type": "markdown",
      "source": [
        "#### 리스트 컴프리헨션"
      ],
      "metadata": {
        "id": "DcqPCNE4stjK"
      }
    },
    {
      "cell_type": "code",
      "source": [
        "# n x m 크기의 2차원 리스트 초기화\n",
        "n = 3\n",
        "m = 4\n",
        "array = [[0] * m for _ in range(n)]\n",
        "array"
      ],
      "metadata": {
        "colab": {
          "base_uri": "https://localhost:8080/"
        },
        "id": "F610JPwOrzym",
        "outputId": "cfec9cb5-761e-41f0-af25-5b3ece6136b2"
      },
      "execution_count": 2,
      "outputs": [
        {
          "output_type": "execute_result",
          "data": {
            "text/plain": [
              "[[0, 0, 0, 0], [0, 0, 0, 0], [0, 0, 0, 0]]"
            ]
          },
          "metadata": {},
          "execution_count": 2
        }
      ]
    },
    {
      "cell_type": "markdown",
      "source": [
        "#### 리스트 관련 method"
      ],
      "metadata": {
        "id": "_Sy63sedtRU2"
      }
    },
    {
      "cell_type": "code",
      "source": [
        "a = [1,4,3]\n",
        "\n",
        "a.append(2)\n",
        "print('삽입:', a)\n",
        "\n",
        "a.sort()\n",
        "print('오름차순 정렬:', a)\n",
        "\n",
        "a.reverse()\n",
        "print('원소 뒤집기:', a)\n",
        "\n",
        "a.insert(2, 3)\n",
        "print('인덱스 2에 3 추가:', a)\n",
        "\n",
        "print('값이 3인 데이터 개수:', a.count(3))\n",
        "\n",
        "a.remove(1)\n",
        "print('값이 1인 데이터 삭제:', a)"
      ],
      "metadata": {
        "colab": {
          "base_uri": "https://localhost:8080/"
        },
        "id": "WxXckrKNrzwP",
        "outputId": "35189b27-6a76-4e57-dfc5-7bbdbda6963b"
      },
      "execution_count": 5,
      "outputs": [
        {
          "output_type": "stream",
          "name": "stdout",
          "text": [
            "삽입: [1, 4, 3, 2]\n",
            "오름차순 정렬: [1, 2, 3, 4]\n",
            "원소 뒤집기: [4, 3, 2, 1]\n",
            "인덱스 2에 3 추가: [4, 3, 3, 2, 1]\n",
            "값이 3인 데이터 개수: 2\n",
            "값이 1인 데이터 삭제: [4, 3, 3, 2]\n"
          ]
        }
      ]
    },
    {
      "cell_type": "code",
      "source": [
        "# 특정한 값의 원소 모두 제거\n",
        "a = [1,2,3,4,5,5,5]\n",
        "remove_set = {3,5}\n",
        "\n",
        "result = [i for i in a if i not in remove_set]\n",
        "result"
      ],
      "metadata": {
        "colab": {
          "base_uri": "https://localhost:8080/"
        },
        "id": "pLKLZjnerzth",
        "outputId": "d6401ece-1efa-4738-cc92-ad7630d5baf8"
      },
      "execution_count": 6,
      "outputs": [
        {
          "output_type": "execute_result",
          "data": {
            "text/plain": [
              "[1, 2, 4]"
            ]
          },
          "metadata": {},
          "execution_count": 6
        }
      ]
    },
    {
      "cell_type": "markdown",
      "source": [
        "### 사전 자료형"
      ],
      "metadata": {
        "id": "rjaQMzySvXOG"
      }
    },
    {
      "cell_type": "code",
      "source": [
        "data = dict()\n",
        "data['사과'] = 'Apple'\n",
        "data['바나나'] = 'Banana'\n",
        "data['코코넛'] = 'Coconut'\n",
        "\n",
        "print(data)"
      ],
      "metadata": {
        "colab": {
          "base_uri": "https://localhost:8080/"
        },
        "id": "5eJJ9kvYrzq9",
        "outputId": "f4c8784b-0f23-4b19-8af1-876e33b3acb8"
      },
      "execution_count": 7,
      "outputs": [
        {
          "output_type": "stream",
          "name": "stdout",
          "text": [
            "{'사과': 'Apple', '바나나': 'Banana', '코코넛': 'Coconut'}\n"
          ]
        }
      ]
    },
    {
      "cell_type": "markdown",
      "source": [
        "#### 사전 자료형 관련 함수"
      ],
      "metadata": {
        "id": "VTTfIj8CvpTr"
      }
    },
    {
      "cell_type": "code",
      "source": [
        "key_list = data.keys()\n",
        "value_list = data.values()\n",
        "\n",
        "print(key_list)\n",
        "print(value_list)"
      ],
      "metadata": {
        "colab": {
          "base_uri": "https://localhost:8080/"
        },
        "id": "vPL0BjlSvW0N",
        "outputId": "f6e315b9-1579-4bf9-a14c-819a82e988bf"
      },
      "execution_count": 8,
      "outputs": [
        {
          "output_type": "stream",
          "name": "stdout",
          "text": [
            "dict_keys(['사과', '바나나', '코코넛'])\n",
            "dict_values(['Apple', 'Banana', 'Coconut'])\n"
          ]
        }
      ]
    },
    {
      "cell_type": "markdown",
      "source": [
        "### 집합 자료형"
      ],
      "metadata": {
        "id": "JkaRktFiv3rV"
      }
    },
    {
      "cell_type": "code",
      "source": [
        "data = {1,1,2,3,4,4,5}\n",
        "print(data)"
      ],
      "metadata": {
        "colab": {
          "base_uri": "https://localhost:8080/"
        },
        "id": "h_UtOhQPvWxw",
        "outputId": "28fc94d4-6b56-4d4c-e82f-df1990a807da"
      },
      "execution_count": 9,
      "outputs": [
        {
          "output_type": "stream",
          "name": "stdout",
          "text": [
            "{1, 2, 3, 4, 5}\n"
          ]
        }
      ]
    },
    {
      "cell_type": "markdown",
      "source": [
        "#### 집합 자료형의 연산"
      ],
      "metadata": {
        "id": "wCvZKohSwHdj"
      }
    },
    {
      "cell_type": "code",
      "source": [
        "a = {1,2,3,4,5}\n",
        "b = {3,4,5,6,7}\n",
        "\n",
        "print('합집합:',a|b)\n",
        "print('교집합:',a&b)\n",
        "print('차집합:',a-b)"
      ],
      "metadata": {
        "colab": {
          "base_uri": "https://localhost:8080/"
        },
        "id": "dmOPPWkKvWvS",
        "outputId": "86202a63-9903-4b7b-f521-bfaab252a967"
      },
      "execution_count": 10,
      "outputs": [
        {
          "output_type": "stream",
          "name": "stdout",
          "text": [
            "합집합: {1, 2, 3, 4, 5, 6, 7}\n",
            "교집합: {3, 4, 5}\n",
            "차집합: {1, 2}\n"
          ]
        }
      ]
    },
    {
      "cell_type": "markdown",
      "source": [
        "#### 집합 자료형 관련 함수"
      ],
      "metadata": {
        "id": "AfaU_v1Fwuwi"
      }
    },
    {
      "cell_type": "code",
      "source": [
        "data = {1,2,3}\n",
        "\n",
        "data.add(4)\n",
        "print('원소 추가:',data)\n",
        "\n",
        "data.update([5,6])\n",
        "print('여러개 원소 추가:', data)\n",
        "\n",
        "data.remove(3)\n",
        "print('원소 삭제:', data)"
      ],
      "metadata": {
        "colab": {
          "base_uri": "https://localhost:8080/"
        },
        "id": "P479oQUmvWs5",
        "outputId": "70fb5b12-77b1-4e80-a197-614b98d1a240"
      },
      "execution_count": 11,
      "outputs": [
        {
          "output_type": "stream",
          "name": "stdout",
          "text": [
            "원소 추가: {1, 2, 3, 4}\n",
            "여러개 원소 추가: {1, 2, 3, 4, 5, 6}\n",
            "원소 삭제: {1, 2, 4, 5, 6}\n"
          ]
        }
      ]
    },
    {
      "cell_type": "markdown",
      "source": [
        "## 함수 (람다 표현식)"
      ],
      "metadata": {
        "id": "QfPb068NxSOG"
      }
    },
    {
      "cell_type": "code",
      "source": [
        "print((lambda a, b: a + b)(3,7))"
      ],
      "metadata": {
        "colab": {
          "base_uri": "https://localhost:8080/"
        },
        "id": "Nkg1TABZvWq1",
        "outputId": "2ff3ca78-c988-4233-9c60-7a72e7adbd74"
      },
      "execution_count": 12,
      "outputs": [
        {
          "output_type": "stream",
          "name": "stdout",
          "text": [
            "10\n"
          ]
        }
      ]
    },
    {
      "cell_type": "markdown",
      "source": [
        "## 입출력"
      ],
      "metadata": {
        "id": "vHNeVh0tynCl"
      }
    },
    {
      "cell_type": "markdown",
      "source": [
        "### 변수 입력"
      ],
      "metadata": {
        "id": "aXloHru1znDa"
      }
    },
    {
      "cell_type": "code",
      "source": [
        "# 데이터의 개수 입력\n",
        "n = int(input())\n",
        "print(n)"
      ],
      "metadata": {
        "colab": {
          "base_uri": "https://localhost:8080/"
        },
        "id": "HTttbReRvWoX",
        "outputId": "31a5bb6c-ffaa-4c17-feda-eb6134db820a"
      },
      "execution_count": 14,
      "outputs": [
        {
          "output_type": "stream",
          "name": "stdout",
          "text": [
            "3\n",
            "3\n"
          ]
        }
      ]
    },
    {
      "cell_type": "code",
      "source": [
        "# 각 데이터를 공백으로 구분하여 입력\n",
        "data = list(map(int, input().split()))\n",
        "\n",
        "data.sort(reverse=True)\n",
        "print(data)"
      ],
      "metadata": {
        "colab": {
          "base_uri": "https://localhost:8080/"
        },
        "id": "Req8ns8DvWmQ",
        "outputId": "7e44d3bd-f4a6-4245-de89-da3ac99b1567"
      },
      "execution_count": 15,
      "outputs": [
        {
          "output_type": "stream",
          "name": "stdout",
          "text": [
            "65 90 75 34 99\n",
            "[99, 90, 75, 65, 34]\n"
          ]
        }
      ]
    },
    {
      "cell_type": "code",
      "source": [
        "# n,m,k를 공백으로 구분하여 입력\n",
        "n, m, k = map(int, input().split())\n",
        "\n",
        "print(n, m, k)"
      ],
      "metadata": {
        "colab": {
          "base_uri": "https://localhost:8080/"
        },
        "id": "oLcqaQG-vWkC",
        "outputId": "b8316cb6-2e1d-4041-9173-7eaeee58280d"
      },
      "execution_count": 16,
      "outputs": [
        {
          "output_type": "stream",
          "name": "stdout",
          "text": [
            "3 5 7\n",
            "3 5 7\n"
          ]
        }
      ]
    },
    {
      "cell_type": "markdown",
      "source": [
        "### sys 라이브러리\n",
        "\n",
        "- input() 함수는 시간 초과로 오답 판정을 받을 수 있음\n",
        "- readline()은 입력 후 엔터가 줄바꿈기호로 입력, 이 공백문자를 제거하기 위해 rstrip()함수 사용"
      ],
      "metadata": {
        "id": "9ppEuuvezppP"
      }
    },
    {
      "cell_type": "code",
      "source": [
        "import sys\n",
        "\n",
        "data = sys.stdin.readline().rstrip()\n",
        "print(data)"
      ],
      "metadata": {
        "colab": {
          "base_uri": "https://localhost:8080/"
        },
        "id": "EJlE1PeyzpkV",
        "outputId": "e4db5f36-db2a-416e-b995-99f5f6905afa"
      },
      "execution_count": 21,
      "outputs": [
        {
          "output_type": "stream",
          "name": "stdout",
          "text": [
            "\n"
          ]
        }
      ]
    },
    {
      "cell_type": "markdown",
      "source": [
        "## 주요 라이브러리의 문법과 유의점"
      ],
      "metadata": {
        "id": "NbqZyhZJ2vai"
      }
    },
    {
      "cell_type": "markdown",
      "source": [
        "### itertools"
      ],
      "metadata": {
        "id": "i81sn0EH3PTm"
      }
    },
    {
      "cell_type": "code",
      "source": [
        "from itertools import permutations, combinations, product, combinations_with_replacement\n",
        "\n",
        "data = ['A','B','C']\n",
        "\n",
        "result = list(permutations(data, 3))\n",
        "print('모든 순열 구하기:', result)\n",
        "\n",
        "result = list(combinations(data, 2))\n",
        "print('2개 뽑는 모든 조합 구하기:', result)\n",
        "\n",
        "result = list(product(data, repeat=2))\n",
        "print('2개 뽑는 모든 순열 구하기(중복 허용):', result)\n",
        "\n",
        "result = list(combinations_with_replacement(data, 2))\n",
        "print('2개 뽑는 모든 조합 구하기:', result)"
      ],
      "metadata": {
        "colab": {
          "base_uri": "https://localhost:8080/"
        },
        "id": "AEjxc2hVzpf-",
        "outputId": "19940b63-e68f-43f7-80a3-4b75753bd5f1"
      },
      "execution_count": 25,
      "outputs": [
        {
          "output_type": "stream",
          "name": "stdout",
          "text": [
            "모든 순열 구하기: [('A', 'B', 'C'), ('A', 'C', 'B'), ('B', 'A', 'C'), ('B', 'C', 'A'), ('C', 'A', 'B'), ('C', 'B', 'A')]\n",
            "2개 뽑는 모든 조합 구하기: [('A', 'B'), ('A', 'C'), ('B', 'C')]\n",
            "2개 뽑는 모든 순열 구하기(중복 허용): [('A', 'A'), ('A', 'B'), ('A', 'C'), ('B', 'A'), ('B', 'B'), ('B', 'C'), ('C', 'A'), ('C', 'B'), ('C', 'C')]\n",
            "2개 뽑는 모든 조합 구하기: [('A', 'A'), ('A', 'B'), ('A', 'C'), ('B', 'B'), ('B', 'C'), ('C', 'C')]\n"
          ]
        }
      ]
    },
    {
      "cell_type": "markdown",
      "source": [
        "### heapq"
      ],
      "metadata": {
        "id": "i00k3PLe4xus"
      }
    },
    {
      "cell_type": "code",
      "source": [
        "import heapq\n",
        "\n",
        "def heapsort(iterable):\n",
        "  h = []\n",
        "  result = []\n",
        "  # 모든 원소를 차례대로 힙에 삽입\n",
        "  for value in iterable:\n",
        "    heapq.heappush(h, value)\n",
        "  # 힙에 삽입된 모든 원소를 차례대로 꺼내어 담기\n",
        "  for _ in range(len(h)):\n",
        "    result.append(heapq.heappop(h))\n",
        "\n",
        "  return result\n",
        "\n",
        "data = [1,3,5,7,9,2,4,6,8,0]\n",
        "heapsort(data)"
      ],
      "metadata": {
        "colab": {
          "base_uri": "https://localhost:8080/"
        },
        "id": "KusCe43uzpbt",
        "outputId": "23b2fbaf-d80e-4e86-e203-12e80ddd68db"
      },
      "execution_count": 27,
      "outputs": [
        {
          "output_type": "execute_result",
          "data": {
            "text/plain": [
              "[0, 1, 2, 3, 4, 5, 6, 7, 8, 9]"
            ]
          },
          "metadata": {},
          "execution_count": 27
        }
      ]
    },
    {
      "cell_type": "code",
      "source": [
        "# 내림차순 힙 정렬\n",
        "def heapsort(iterable):\n",
        "  h = []\n",
        "  result = []\n",
        "  # 모든 원소를 차례대로 힙에 삽입\n",
        "  for value in iterable:\n",
        "    heapq.heappush(h, -value)\n",
        "  # 힙에 삽입된 모든 원소를 차례대로 꺼내어 담기\n",
        "  for _ in range(len(h)):\n",
        "    result.append(-heapq.heappop(h))\n",
        "\n",
        "  return result\n",
        "\n",
        "data = [1,3,5,7,9,2,4,6,8,0]\n",
        "heapsort(data)"
      ],
      "metadata": {
        "colab": {
          "base_uri": "https://localhost:8080/"
        },
        "id": "Ka-_5uCozpY7",
        "outputId": "570e42d0-cbb9-4721-f3ce-6e8810b6dead"
      },
      "execution_count": 28,
      "outputs": [
        {
          "output_type": "execute_result",
          "data": {
            "text/plain": [
              "[9, 8, 7, 6, 5, 4, 3, 2, 1, 0]"
            ]
          },
          "metadata": {},
          "execution_count": 28
        }
      ]
    },
    {
      "cell_type": "markdown",
      "source": [
        "### bisect\n",
        "\n",
        "- bisect_left(a, x): 정렬된 순서를 유지하면서 리스트 a에 데이터 x를 삽입할 가장 왼쪽 인덱스를 찾음\n",
        "\n",
        "- bisect_right(a, x): 정렬된 순서를 유지하면서 리스트 a에 데이터 x를 삽입할 가장 오른쪽 인덱스를 찾음"
      ],
      "metadata": {
        "id": "Z1x9I3gVBUSV"
      }
    },
    {
      "cell_type": "code",
      "source": [
        "from bisect import bisect_left, bisect_right\n",
        "\n",
        "a = [1,2,4,4,8]\n",
        "\n",
        "print(bisect_left(a, 4))\n",
        "print(bisect_right(a, 4))"
      ],
      "metadata": {
        "colab": {
          "base_uri": "https://localhost:8080/"
        },
        "id": "V9GT4dy3BUGg",
        "outputId": "c3bab324-56a4-4515-8507-cfd760fb37e2"
      },
      "execution_count": 29,
      "outputs": [
        {
          "output_type": "stream",
          "name": "stdout",
          "text": [
            "2\n",
            "4\n"
          ]
        }
      ]
    },
    {
      "cell_type": "code",
      "source": [
        "def count_by_range(a, left_value, right_value):\n",
        "  right_index = bisect_right(a, right_value)\n",
        "  left_index = bisect_left(a, left_value)\n",
        "  return right_index - left_index\n",
        "\n",
        "a = [1,2,3,3,3,3,4,4,8,9]\n",
        "\n",
        "# 값이 4인 데이터 개수 출력\n",
        "print(count_by_range(a, 4, 4))\n",
        "\n",
        "# 값이 [-1,3] 범위에 있는 데이터 개수 출력\n",
        "print(count_by_range(a, -1, 3))"
      ],
      "metadata": {
        "colab": {
          "base_uri": "https://localhost:8080/"
        },
        "id": "Hua4r8DWB2Zb",
        "outputId": "4efd738b-e449-459a-9a29-783ee48e737b"
      },
      "execution_count": 30,
      "outputs": [
        {
          "output_type": "stream",
          "name": "stdout",
          "text": [
            "2\n",
            "6\n"
          ]
        }
      ]
    },
    {
      "cell_type": "markdown",
      "source": [
        "### collections"
      ],
      "metadata": {
        "id": "2h9c9o3FCsAV"
      }
    },
    {
      "cell_type": "code",
      "source": [
        "from collections import deque\n",
        "\n",
        "data = deque([2,3,4])\n",
        "print(data)\n",
        "\n",
        "data.appendleft(1)\n",
        "data.append(5)\n",
        "\n",
        "print(data)\n",
        "print(list(data)) # 리스트 자료형 변환\n",
        "\n",
        "data.popleft()\n",
        "data.popleft()\n",
        "data.pop()\n",
        "print(data)"
      ],
      "metadata": {
        "colab": {
          "base_uri": "https://localhost:8080/"
        },
        "id": "IFjRtiqvBUBQ",
        "outputId": "771fff4e-1820-4549-a887-fe3eeebb0650"
      },
      "execution_count": 32,
      "outputs": [
        {
          "output_type": "stream",
          "name": "stdout",
          "text": [
            "deque([2, 3, 4])\n",
            "deque([1, 2, 3, 4, 5])\n",
            "[1, 2, 3, 4, 5]\n",
            "deque([3, 4])\n"
          ]
        }
      ]
    },
    {
      "cell_type": "code",
      "source": [
        "from collections import Counter\n",
        "\n",
        "counter = Counter(['red','blue','red','green','blue','blue'])\n",
        "\n",
        "print(counter['blue']) # 'blue'가 등장한 횟수 출력\n",
        "print(counter['red']) # 'red'가 등장한 횟수 출력\n",
        "print(counter['green']) # 'green'이 등장한 횟수 출력"
      ],
      "metadata": {
        "colab": {
          "base_uri": "https://localhost:8080/"
        },
        "id": "Yga6PFKUBT8b",
        "outputId": "0116657b-8f1c-4752-bf06-4662f80c38c0"
      },
      "execution_count": 33,
      "outputs": [
        {
          "output_type": "stream",
          "name": "stdout",
          "text": [
            "3\n",
            "2\n",
            "1\n"
          ]
        }
      ]
    },
    {
      "cell_type": "markdown",
      "source": [
        "### math"
      ],
      "metadata": {
        "id": "NAks9iiREeXh"
      }
    },
    {
      "cell_type": "code",
      "source": [
        "import math\n",
        "\n",
        "print('21과 14의 최대공약수:', math.gcd(21,14))\n",
        "print('파이:', math.pi)\n",
        "print('자연상수 e:', math.e)"
      ],
      "metadata": {
        "colab": {
          "base_uri": "https://localhost:8080/"
        },
        "id": "qi0aNgc4BT3f",
        "outputId": "215e0b0d-f51d-44ca-9860-657cd1643748"
      },
      "execution_count": 35,
      "outputs": [
        {
          "output_type": "stream",
          "name": "stdout",
          "text": [
            "21과 14의 최대공약수: 7\n",
            "파이: 3.141592653589793\n",
            "자연상수 e: 2.718281828459045\n"
          ]
        }
      ]
    }
  ]
}