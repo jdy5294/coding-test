{
  "nbformat": 4,
  "nbformat_minor": 0,
  "metadata": {
    "colab": {
      "provenance": [],
      "toc_visible": true,
      "authorship_tag": "ABX9TyO8bsmaL8l1WNBzUHRlSFVr",
      "include_colab_link": true
    },
    "kernelspec": {
      "name": "python3",
      "display_name": "Python 3"
    },
    "language_info": {
      "name": "python"
    }
  },
  "cells": [
    {
      "cell_type": "markdown",
      "metadata": {
        "id": "view-in-github",
        "colab_type": "text"
      },
      "source": [
        "<a href=\"https://colab.research.google.com/github/jdy5294/coding-test/blob/main/DFS_BFS_%EA%B8%B0%EB%B3%B8.ipynb\" target=\"_parent\"><img src=\"https://colab.research.google.com/assets/colab-badge.svg\" alt=\"Open In Colab\"/></a>"
      ]
    },
    {
      "cell_type": "markdown",
      "source": [
        "### DFS\n",
        "\n",
        "- 깊이 우선 탐색, 스택 자료구조 (박스 쌓기, 선입후출) 이용\n",
        "- 동작 과정\n",
        "      1. 탐색 시작 노드를 스택에 삽입하고 방문 처리를 한다.\n",
        "      2. 스택의 최상단 노드에 방문하지 않은 인접 노드가 있으면 그 인접 노드를 스택에 넣고 방문 처리를 한다. 방문하지 않은 인접 노드가 없으면 스택에서 최상단 노드를 꺼낸다.\n",
        "      3. 2의 과정을 더 이상 수행할 수 없을 때까지 반복한다."
      ],
      "metadata": {
        "id": "wzk-pAHrShSk"
      }
    },
    {
      "cell_type": "markdown",
      "source": [
        "- 인접 리스트 방식 예제"
      ],
      "metadata": {
        "id": "Wm_HsAMUSlkC"
      }
    },
    {
      "cell_type": "code",
      "source": [
        "# 행이 3개인 2차원 리스트\n",
        "graph = [[] for _ in range(3)]\n",
        "\n",
        "# 노드 0에 연결된 노드 정보 저장(노드, 거리)\n",
        "graph[0].append((1, 7))\n",
        "graph[0].append((2, 5))\n",
        "\n",
        "# 노드 1에 연결된 노드 정보 저장(노드, 거리)\n",
        "graph[1].append((0, 7))\n",
        "\n",
        "# 노드 2에 연결된 노드 정보 저장(노드, 거리)\n",
        "graph[2].append((0, 5))\n",
        "\n",
        "print(graph)"
      ],
      "metadata": {
        "colab": {
          "base_uri": "https://localhost:8080/"
        },
        "id": "sBA1ixtfShJG",
        "outputId": "37571efb-bed6-4052-b8e7-b310f118c8dd"
      },
      "execution_count": 1,
      "outputs": [
        {
          "output_type": "stream",
          "name": "stdout",
          "text": [
            "[[(1, 7), (2, 5)], [(0, 7)], [(0, 5)]]\n"
          ]
        }
      ]
    },
    {
      "cell_type": "markdown",
      "source": [
        "- DFS 예제"
      ],
      "metadata": {
        "id": "HPgAVZ66UBk1"
      }
    },
    {
      "cell_type": "code",
      "source": [
        "# DFS method 정의\n",
        "def dfs(graph, v, visited):\n",
        "  visited[v] = True\n",
        "  print(v, end=' ')\n",
        "  # 현재 노드와 연결된 다른 노드를 재귀적으로 방문\n",
        "  for i in graph[v]:\n",
        "    if not visited[i]:\n",
        "      dfs(graph, i, visited)\n",
        "\n",
        "# 각 노드가 연결된 정보를 리스트 자료형으로 표현 (2차원 리스트)\n",
        "graph = [\n",
        "    [],\n",
        "    [2,3,8],\n",
        "    [1,7],\n",
        "    [1,4,5],\n",
        "    [3,5],\n",
        "    [3,4],\n",
        "    [7],\n",
        "    [2,6,8],\n",
        "    [1,7]\n",
        "]\n",
        "\n",
        "visited = [False] * 9\n",
        "\n",
        "dfs(graph, 1, visited)"
      ],
      "metadata": {
        "colab": {
          "base_uri": "https://localhost:8080/"
        },
        "id": "K3Zf03oxShE1",
        "outputId": "2077e1fb-4476-4e75-ad41-dcceccfe85fb"
      },
      "execution_count": 2,
      "outputs": [
        {
          "output_type": "stream",
          "name": "stdout",
          "text": [
            "1 2 7 6 8 3 4 5 "
          ]
        }
      ]
    },
    {
      "cell_type": "markdown",
      "source": [
        "### BFS\n",
        "\n",
        "- 너비 우선 탐색, 큐 자료구조 (대기 줄, 선입선출) 이용\n",
        "- 동작 과정\n",
        "      1. 탐색 시작 노드를 큐에 삽입하고 방문 처리를 한다.\n",
        "      2. 큐에서 노드를 꺼내 해당 노드의 인접 노드 중에서 방문하지 않은 노드를 모두 큐에 삽입하고 방문 처리를 한다.\n",
        "      3. 2의 과정을 더 이상 수행할 수 없을 때까지 반복한다."
      ],
      "metadata": {
        "id": "MOXwz-h3NBcM"
      }
    },
    {
      "cell_type": "code",
      "source": [
        "from collections import deque\n",
        "\n",
        "def bfs(graph, start, visited):\n",
        "  queue = deque([start])\n",
        "  visited[start] = True\n",
        "\n",
        "  # 큐가 빌때까지 반복\n",
        "  while queue:\n",
        "    v = queue.popleft()\n",
        "    print(v, end=' ')\n",
        "    for i in graph[v]:\n",
        "      if not visited[i]:\n",
        "        queue.append(i)\n",
        "        visited[i] = True\n",
        "\n",
        "graph = [\n",
        "    [],\n",
        "    [2,3,8],\n",
        "    [1,7],\n",
        "    [1,4,5],\n",
        "    [3,5],\n",
        "    [3,4],\n",
        "    [7],\n",
        "    [2,6,8],\n",
        "    [1,7]\n",
        "]\n",
        "\n",
        "visited = [False] * 9\n",
        "\n",
        "bfs(graph, 1, visited)"
      ],
      "metadata": {
        "colab": {
          "base_uri": "https://localhost:8080/"
        },
        "id": "jJSk9QaTShCQ",
        "outputId": "f71807e6-c80d-4645-ce8d-dc53c0253aab"
      },
      "execution_count": 3,
      "outputs": [
        {
          "output_type": "stream",
          "name": "stdout",
          "text": [
            "1 2 3 8 7 4 5 6 "
          ]
        }
      ]
    },
    {
      "cell_type": "markdown",
      "source": [
        "### 음료수 얼려 먹기\n",
        "\n",
        "1. 문제:\n",
        "        - N x M 크기의 얼음 틀이 있다. 구멍이 뚫려 있는 부분은 0, 칸막이가 존재하는 부분은 1로 표시된다. 구멍이 뚫려 있는 부분끼리 상,하,좌,우로 붙어 있는 경우 서로 연결되어 있는 것으로 간주한다. 이때 얼음 틀의 모양이 주어졌을 때 생성되는 총 아이스크림의 개수를 구하는 프로그램을 작성하시오.\n",
        "\n",
        "2. 입력:\n",
        "        - 첫째 줄에 얼음 틀의 세로 길이 N과 가로 길이 M이 주어진다.\n",
        "\n",
        "        - 두번째 줄부터 N+1번째 줄까지 얼음 틀의 형태가 주어진다.\n",
        "\n",
        "        - 이때 구멍이 뚫려있는 부분은 0, 그렇지 않은 부분은 1이다.\n",
        "\n",
        "3. 출력\n",
        "        - 한 번에 만들 수 있는 아이스크림의 개수를 출력한다."
      ],
      "metadata": {
        "id": "L8BQgPQFbEF3"
      }
    },
    {
      "cell_type": "code",
      "source": [
        "n, m = map(int, input().split())\n",
        "graph = []\n",
        "for _ in range(n):\n",
        "  graph.append(list(map(int, input().split())))\n",
        "\n",
        "print(graph)\n",
        "\n",
        "def dfs(x, y):\n",
        "  if x <= -1 or x >= n or y <= -1 or y >= n:\n",
        "    return False\n",
        "  if graph[x][y] == 0:\n",
        "    graph[x][y] = 1\n",
        "    dfs(x-1, y)\n",
        "    dfs(x+1, y)\n",
        "    dfs(x, y-1)\n",
        "    dfs(x, y+1)\n",
        "    return True\n",
        "  return False\n",
        "\n",
        "result = 0\n",
        "for i in range(n):\n",
        "  for j in range(m):\n",
        "    if dfs(i, j) == True:\n",
        "      result += 1\n",
        "\n",
        "print(result)"
      ],
      "metadata": {
        "id": "LdW2ivs3Sg_t",
        "colab": {
          "base_uri": "https://localhost:8080/"
        },
        "outputId": "289d986e-4ebf-4ac9-9605-aac86f62bc17"
      },
      "execution_count": 5,
      "outputs": [
        {
          "output_type": "stream",
          "name": "stdout",
          "text": [
            "3 3\n",
            "0 0 1\n",
            "0 1 0\n",
            "1 0 1\n",
            "[[0, 0, 1], [0, 1, 0], [1, 0, 1]]\n",
            "3\n"
          ]
        }
      ]
    },
    {
      "cell_type": "markdown",
      "source": [
        "### 미로 탈출\n",
        "\n",
        "1. 문제:\n",
        "        - N x M 크기의 미로에 갇혀 있다. 시작 위치는 (1, 1)이고 미로의 출구는 (N, M)의 위치에 존재하며 한 번에 한 칸씩 이동할 수 있다. 괴물이 있는 부분은 0으로, 괴물이 없는 부분은 1로 표시되어 있다. 이때 탈출하기 위해 움직여야 하는 최소 칸의 개수를 구하시오. 칸을 셀 때는 시작 칸과 마지막 칸을 모두 포함해서 계산한다.\n",
        "\n",
        "2. 입력:\n",
        "        - 첫째 줄에 두 정수 N, M이 주어진다. 다음 N개의 줄에는 각각 M개의 정수 (0 혹은 1)로 미로의 정보가 주어진다. 각각의 수들은 공백 없이 붙어서 입력으로 제시된다. 또한 시작 칸과 마지막 칸은 항상 1이다.\n",
        "\n",
        "3. 출력\n",
        "        - 첫째 줄에 최소 이동 칸의 개수를 출력한다."
      ],
      "metadata": {
        "id": "c7mI5X91x_fb"
      }
    },
    {
      "cell_type": "code",
      "source": [
        "n, m = map(int, input().split())\n",
        "graph = []\n",
        "\n",
        "for _ in range(n):\n",
        "  graph.append(list(map(int, input())))\n",
        "\n",
        "# 동,서,남,북\n",
        "dx=[0,0,1,-1]\n",
        "dy=[-1,1,0,0]\n",
        "\n",
        "def bfs(x, y):\n",
        "  queue = deque()\n",
        "  queue.append((x,y))\n",
        "\n",
        "  while queue:\n",
        "    x, y = queue.popleft()\n",
        "    for i in range(4):\n",
        "      nx = x + dx[i]\n",
        "      ny = y + dy[i]\n",
        "      if (0 <= nx < n) & (0 <= ny < m):\n",
        "        if graph[nx][ny] == 1:\n",
        "        # 해당 노드를 처음 방문하는 경우에만 최단 거리 기록\n",
        "          graph[nx][ny] = graph[x][y] + 1\n",
        "          queue.append((nx, ny))\n",
        "\n",
        "  return graph[n-1][m-1]\n",
        "\n",
        "print(bfs(0,0))"
      ],
      "metadata": {
        "id": "_dak1QVTSg84",
        "colab": {
          "base_uri": "https://localhost:8080/"
        },
        "outputId": "fb3170de-350a-4e51-894a-3d10f3d89d75"
      },
      "execution_count": 20,
      "outputs": [
        {
          "output_type": "stream",
          "name": "stdout",
          "text": [
            "5 6\n",
            "101010\n",
            "111111\n",
            "000001\n",
            "111111\n",
            "111111\n",
            "10\n"
          ]
        }
      ]
    }
  ]
}