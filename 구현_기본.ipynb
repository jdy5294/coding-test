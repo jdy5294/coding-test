{
  "nbformat": 4,
  "nbformat_minor": 0,
  "metadata": {
    "colab": {
      "provenance": [],
      "toc_visible": true,
      "authorship_tag": "ABX9TyPduKbKcHpwuinDlayTgwfc",
      "include_colab_link": true
    },
    "kernelspec": {
      "name": "python3",
      "display_name": "Python 3"
    },
    "language_info": {
      "name": "python"
    }
  },
  "cells": [
    {
      "cell_type": "markdown",
      "metadata": {
        "id": "view-in-github",
        "colab_type": "text"
      },
      "source": [
        "<a href=\"https://colab.research.google.com/github/jdy5294/coding-test/blob/main/%EA%B5%AC%ED%98%84_%EA%B8%B0%EB%B3%B8.ipynb\" target=\"_parent\"><img src=\"https://colab.research.google.com/assets/colab-badge.svg\" alt=\"Open In Colab\"/></a>"
      ]
    },
    {
      "cell_type": "markdown",
      "source": [
        "### 상하좌우\n",
        "\n",
        "1. 문제:\n",
        "        - N x N 크기의 정사각형 공간 위에 여행가 A는 가장 왼쪽 위 좌표인 (1,1)에 서있다. 여행 계획서에는 하나의 줄에 띄어쓰기를 기준으로 하여 L,R,U,D중 하나의 문자가 반복적으로 적혀있다. 이때 정사각형 공간을 벗어나는 움직임은 무시된다.\n",
        "\n",
        "2. 입력:\n",
        "        - 첫째 줄에 공간의 크기를 나타내는 N이 주어진다.\n",
        "\n",
        "        - 둘째 줄에 여행가 A가 이동할 계획서 내용이 주어진다.\n",
        "\n",
        "3. 출력\n",
        "        - 첫째 줄에 여행가 A가 최종적으로 도착할 지점의 좌표 (X,Y)를 공백으로 구분하여 출력한다."
      ],
      "metadata": {
        "id": "L8BQgPQFbEF3"
      }
    },
    {
      "cell_type": "code",
      "source": [
        "n = 5\n",
        "plans = ['R','R','R','U','D','D']\n",
        "\n",
        "x, y = 1, 1\n",
        "\n",
        "dx = [0,0,-1,1]\n",
        "dy = [-1,1,0,0]\n",
        "move_types = ['L','R','U','D']\n",
        "\n",
        "for plan in plans:\n",
        "  i = move_types.index(plan)\n",
        "  nx = x + dx[i]\n",
        "  ny = y + dy[i]\n",
        "\n",
        "  if (0 < nx <= n) & (0 < ny <= n):\n",
        "    x, y = nx, ny\n",
        "\n",
        "print(x, y)"
      ],
      "metadata": {
        "colab": {
          "base_uri": "https://localhost:8080/"
        },
        "id": "SdUmkqmganrl",
        "outputId": "2e71f9b9-a227-4de1-98ab-affe02294fdd"
      },
      "execution_count": 4,
      "outputs": [
        {
          "output_type": "stream",
          "name": "stdout",
          "text": [
            "3 4\n"
          ]
        }
      ]
    },
    {
      "cell_type": "markdown",
      "source": [
        "### 시각\n",
        "\n",
        "2. 입력:\n",
        "        - 첫째 줄에 정수 N이 입력된다.\n",
        "\n",
        "3. 출력\n",
        "        - 00시 00분 00초부터 N시 59분 59초까지의 모든 시각 중에서 3이 하나라도 포함되는 모든 경우의 수를 출력한다."
      ],
      "metadata": {
        "id": "lv-RpodSfxsf"
      }
    },
    {
      "cell_type": "code",
      "source": [
        "h = 5\n",
        "count = 0\n",
        "\n",
        "for i in range(h+1):\n",
        "  for j in range(60):\n",
        "    for k in range(60):\n",
        "      time = str(i) + str(j) + str(k)\n",
        "      if '3' in time:\n",
        "        count += 1\n",
        "\n",
        "print(count)"
      ],
      "metadata": {
        "colab": {
          "base_uri": "https://localhost:8080/"
        },
        "id": "-TfsjCHlanuh",
        "outputId": "2748ee3e-6efb-42d7-babb-c5e5e6f64053"
      },
      "execution_count": 5,
      "outputs": [
        {
          "output_type": "stream",
          "name": "stdout",
          "text": [
            "11475\n"
          ]
        }
      ]
    },
    {
      "cell_type": "markdown",
      "source": [
        "### 왕실의 나이트\n",
        "\n",
        "1. 문제:\n",
        "        - 나이트는 아래와 같이 L자 형태로만 이동할 수 있으며 8x8 정원 밖으로는 나갈 수 없다. 이 때 행 위치는 1부터 8로 표현하고, 열 위치는 a부터 h로 표현한다.\n",
        "\n",
        "        1. 수평으로 두 칸 이동한 뒤에 수직으로 한 칸 이동하기\n",
        "        2. 수직으로 두 칸 이동한 뒤에 수평으로 한 칸 이동하기\n",
        "\n",
        "2. 입력:\n",
        "        - 첫째 줄에 8 x 8 좌표 평면상에서 현재 나이트가 위치한 곳의 좌표를 나타내는 두 문자로 구성된 문자열이 입력된다. 입력 문자는 a1처럼 열과 행으로 이뤄진다.\n",
        "\n",
        "3. 출력\n",
        "        - 첫째 줄에 나이트가 이동할 수 있는 경우의 수를 출력하시오."
      ],
      "metadata": {
        "id": "_o9088SBgnT5"
      }
    },
    {
      "cell_type": "code",
      "source": [
        "# 내 답안\n",
        "input_data = input()\n",
        "columns = ['a','b','c','d','e','f','g','h']\n",
        "[y, x] = list(input_data)\n",
        "x = int(x)\n",
        "y = columns.index(y) + 1\n",
        "#y = int(ord(y)) - int(ord('a')) + 1\n",
        "\n",
        "dx = [-2,-2,-1,1,2,2,1,-1]\n",
        "dy = [-1,1,2,2,1,-1,-2,-2]\n",
        "#steps = [(-2,-1), (-1,-2), (1,-2), (2,-1), (2,1), (1,2), (-1,2), (-2,1)]\n",
        "\n",
        "count = 0\n",
        "for i in range(8):\n",
        "  nx = x + dx[i]\n",
        "  ny = y + dy[i]\n",
        "\n",
        "  if (0 < nx <= 8) & (0 < ny <= 8):\n",
        "    count += 1\n",
        "\n",
        "print(count)"
      ],
      "metadata": {
        "colab": {
          "base_uri": "https://localhost:8080/"
        },
        "id": "WhGOdQtaivK9",
        "outputId": "661427b1-4d66-45a2-e67d-8db5e5419b63"
      },
      "execution_count": 29,
      "outputs": [
        {
          "output_type": "stream",
          "name": "stdout",
          "text": [
            "a1\n",
            "2\n"
          ]
        }
      ]
    },
    {
      "cell_type": "markdown",
      "source": [
        "### 게임 개발\n",
        "\n",
        "1. 문제:\n",
        "        - 맵의 각 칸은 (A,B)로 나타낼 수 있고, A는 북쪽으로부터 떨어진 칸의 개수, B는 서쪽으로부터 떨어진 칸의 개수이다. 캐릭터는 상하좌우로 움직일 수 있고, 바다로 되어 있는 공간에는 갈 수 없다.\n",
        "\n",
        "        1. 현재 위치에서 현재 방향을 기준으로 왼쪽 방향부터 차례대로 갈 곳을 정한다.\n",
        "        2. 캐릭터의 바로 왼쪽 방향에 아직 가보지 않은 칸이 존재한다면, 왼쪽 방향으로 회전한 다음 왼쪽으로 한 칸을 전진한다. 왼쪽 방향에 가보지 않은 칸이 없다면, 왼쪽 방향으로 회전만 수행하고 1단계로 돌아간다.\n",
        "        3. 만약 네 방향 모두 이미 가본 칸이거나 바다로 되어 있는 칸인 경우에는, 바라보는 방향을 유지한 채로 한 칸 뒤로 가고 1단계로 돌아간다. 단, 이때 뒤쪽 방향이 바다인 칸이라 뒤로 갈 수 없는 경우에는 움직임을 멈춘다.\n",
        "\n",
        "2. 입력:\n",
        "        - 첫째 줄에 맵의 세로 크기 N과 가로 크기 M을 공백으로 구분하여 입력한다.\n",
        "\n",
        "        - 둘째 줄에 게임 캐릭터 좌표 (A,B)와 바라보는 방향 d가 각각 서로 공백으로 구분하여 주어진다. 방향 d의 값으로는 다음과 같이 4가지가 존재한다. (0:북쪽, 1:동쪽, 2:남쪽, 3:서쪽)\n",
        "\n",
        "        - 셋째 줄부터 맵이 육지인지 바다인지에 대한 정보가 주어진다. (0: 육지, 1:바다) 맵의 외곽은 항상 바다로 되어 있다.\n",
        "\n",
        "        - 처음에 게임 캐릭터가 위치한 칸의 상태는 항상 육지이다.\n",
        "\n",
        "3. 출력\n",
        "        - 첫째 줄에 이동을 마친 후 캐릭터가 방문한 칸의 수를 출력한다."
      ],
      "metadata": {
        "id": "UkmqWG7yGJS-"
      }
    },
    {
      "cell_type": "code",
      "source": [
        "n, m = 4, 4\n",
        "a, b, d = 1, 1, 0\n",
        "map_data = [[1,1,1,1], [1,0,0,1], [1,1,0,1], [1,1,1,1]]\n",
        "visited = [[0] * m for _ in range(n)]\n",
        "\n",
        "# 북, 동, 남, 서\n",
        "dx = [-1,0,1,0]\n",
        "dy = [0,1,0,-1]\n",
        "\n",
        "def turn_left():\n",
        "  global d # 전역변수이므로\n",
        "  d -= 1\n",
        "  if d == -1:\n",
        "    d = 3\n",
        "\n",
        "visited[a][b] = 1\n",
        "visit_count = 1\n",
        "\n",
        "turn_count = 0\n",
        "while True:\n",
        "  turn_left()\n",
        "  turn_count += 1\n",
        "  nx = x + dx[d]\n",
        "  ny = y + dy[d]\n",
        "  if (visited[nx][ny] == 0) & (map_data[nx][ny] == 0):\n",
        "    visited[nx][ny] = 1\n",
        "    visit_count += 1\n",
        "    x, y = nx, ny\n",
        "    turn_count = 0\n",
        "    continue\n",
        "\n",
        "  if turn_count == 4:\n",
        "    nx = x - dx[d]\n",
        "    ny = y - dy[d]\n",
        "    if visited[nx][ny] == 0:\n",
        "      visited[nx][ny] = 1\n",
        "      visit_count += 1\n",
        "      x, y = nx, ny\n",
        "      turn_count = 0\n",
        "    else:\n",
        "      break\n",
        "\n",
        "print(visit_count)"
      ],
      "metadata": {
        "colab": {
          "base_uri": "https://localhost:8080/"
        },
        "id": "F3NWWW_R4khj",
        "outputId": "606f9ea6-e6c3-4db4-b877-f34bd6d3c528"
      },
      "execution_count": 42,
      "outputs": [
        {
          "output_type": "stream",
          "name": "stdout",
          "text": [
            "3\n"
          ]
        }
      ]
    }
  ]
}